{
  "nbformat": 4,
  "nbformat_minor": 0,
  "metadata": {
    "colab": {
      "name": "n-queens Pandas Edition.ipynb",
      "provenance": [],
      "toc_visible": true,
      "authorship_tag": "ABX9TyPXVwbhMZ8DfO0W0KBcOt76",
      "include_colab_link": true
    },
    "kernelspec": {
      "name": "python3",
      "display_name": "Python 3"
    },
    "language_info": {
      "name": "python"
    }
  },
  "cells": [
    {
      "cell_type": "markdown",
      "metadata": {
        "id": "view-in-github",
        "colab_type": "text"
      },
      "source": [
        "<a href=\"https://colab.research.google.com/github/mosmtilk222/n-Queens-Problem/blob/main/n_queens_Pandas_Edition.ipynb\" target=\"_parent\"><img src=\"https://colab.research.google.com/assets/colab-badge.svg\" alt=\"Open In Colab\"/></a>"
      ]
    },
    {
      "cell_type": "code",
      "metadata": {
        "id": "4ciLcygBFEzo",
        "colab": {
          "base_uri": "https://localhost:8080/",
          "height": 380
        },
        "outputId": "f1834a6d-97a4-4eec-cefa-84406f7c9537"
      },
      "source": [
        "#Creating the board in excel\n",
        "\n",
        "from openpyxl import Workbook, load_workbook\n",
        "\n",
        "wb = Workbook()\n",
        "ws = wb.active\n",
        "ws.title = \"Data in the board\"\n",
        "\n",
        "ws.append(['ROW', 'COLUMN', 'DIAGONALSWNE', 'DIAGONALSENW', 'OCCUPIED', 'AVAILABLE'])\n",
        "\n",
        "for i in range(1,1001):\n",
        "  diagonal_swne = i\n",
        "  diagonal_senw = i + 999\n",
        "  for j in range(1,1001):\n",
        "    ws.append([i, j, diagonal_swne, diagonal_senw, False, True])\n",
        "    diagonal_swne += 1\n",
        "    diagonal_senw -= 1\n",
        "\n",
        "wb.save('Board.xlsx')"
      ],
      "execution_count": null,
      "outputs": [
        {
          "output_type": "error",
          "ename": "KeyboardInterrupt",
          "evalue": "ignored",
          "traceback": [
            "\u001b[0;31m---------------------------------------------------------------------------\u001b[0m",
            "\u001b[0;31mKeyboardInterrupt\u001b[0m                         Traceback (most recent call last)",
            "\u001b[0;32m<ipython-input-1-cb080e0d8e89>\u001b[0m in \u001b[0;36m<module>\u001b[0;34m()\u001b[0m\n\u001b[1;32m     13\u001b[0m   \u001b[0mdiagonal_senw\u001b[0m \u001b[0;34m=\u001b[0m \u001b[0mi\u001b[0m \u001b[0;34m+\u001b[0m \u001b[0;36m999\u001b[0m\u001b[0;34m\u001b[0m\u001b[0;34m\u001b[0m\u001b[0m\n\u001b[1;32m     14\u001b[0m   \u001b[0;32mfor\u001b[0m \u001b[0mj\u001b[0m \u001b[0;32min\u001b[0m \u001b[0mrange\u001b[0m\u001b[0;34m(\u001b[0m\u001b[0;36m1\u001b[0m\u001b[0;34m,\u001b[0m\u001b[0;36m1001\u001b[0m\u001b[0;34m)\u001b[0m\u001b[0;34m:\u001b[0m\u001b[0;34m\u001b[0m\u001b[0;34m\u001b[0m\u001b[0m\n\u001b[0;32m---> 15\u001b[0;31m     \u001b[0mws\u001b[0m\u001b[0;34m.\u001b[0m\u001b[0mappend\u001b[0m\u001b[0;34m(\u001b[0m\u001b[0;34m[\u001b[0m\u001b[0mi\u001b[0m\u001b[0;34m,\u001b[0m \u001b[0mj\u001b[0m\u001b[0;34m,\u001b[0m \u001b[0mdiagonal_swne\u001b[0m\u001b[0;34m,\u001b[0m \u001b[0mdiagonal_senw\u001b[0m\u001b[0;34m,\u001b[0m \u001b[0;32mFalse\u001b[0m\u001b[0;34m,\u001b[0m \u001b[0;32mTrue\u001b[0m\u001b[0;34m]\u001b[0m\u001b[0;34m)\u001b[0m\u001b[0;34m\u001b[0m\u001b[0;34m\u001b[0m\u001b[0m\n\u001b[0m\u001b[1;32m     16\u001b[0m     \u001b[0mdiagonal_swne\u001b[0m \u001b[0;34m+=\u001b[0m \u001b[0;36m1\u001b[0m\u001b[0;34m\u001b[0m\u001b[0;34m\u001b[0m\u001b[0m\n\u001b[1;32m     17\u001b[0m     \u001b[0mdiagonal_senw\u001b[0m \u001b[0;34m-=\u001b[0m \u001b[0;36m1\u001b[0m\u001b[0;34m\u001b[0m\u001b[0;34m\u001b[0m\u001b[0m\n",
            "\u001b[0;32m/usr/local/lib/python3.7/dist-packages/openpyxl/worksheet/worksheet.py\u001b[0m in \u001b[0;36mappend\u001b[0;34m(self, iterable)\u001b[0m\n\u001b[1;32m    775\u001b[0m                     \u001b[0mcell\u001b[0m\u001b[0;34m.\u001b[0m\u001b[0mrow\u001b[0m \u001b[0;34m=\u001b[0m \u001b[0mrow_idx\u001b[0m\u001b[0;34m\u001b[0m\u001b[0;34m\u001b[0m\u001b[0m\n\u001b[1;32m    776\u001b[0m                 \u001b[0;32melse\u001b[0m\u001b[0;34m:\u001b[0m\u001b[0;34m\u001b[0m\u001b[0;34m\u001b[0m\u001b[0m\n\u001b[0;32m--> 777\u001b[0;31m                     \u001b[0mcell\u001b[0m \u001b[0;34m=\u001b[0m \u001b[0mCell\u001b[0m\u001b[0;34m(\u001b[0m\u001b[0mself\u001b[0m\u001b[0;34m,\u001b[0m \u001b[0mrow\u001b[0m\u001b[0;34m=\u001b[0m\u001b[0mrow_idx\u001b[0m\u001b[0;34m,\u001b[0m \u001b[0mcol_idx\u001b[0m\u001b[0;34m=\u001b[0m\u001b[0mcol_idx\u001b[0m\u001b[0;34m,\u001b[0m \u001b[0mvalue\u001b[0m\u001b[0;34m=\u001b[0m\u001b[0mcontent\u001b[0m\u001b[0;34m)\u001b[0m\u001b[0;34m\u001b[0m\u001b[0;34m\u001b[0m\u001b[0m\n\u001b[0m\u001b[1;32m    778\u001b[0m                 \u001b[0mself\u001b[0m\u001b[0;34m.\u001b[0m\u001b[0m_cells\u001b[0m\u001b[0;34m[\u001b[0m\u001b[0;34m(\u001b[0m\u001b[0mrow_idx\u001b[0m\u001b[0;34m,\u001b[0m \u001b[0mcol_idx\u001b[0m\u001b[0;34m)\u001b[0m\u001b[0;34m]\u001b[0m \u001b[0;34m=\u001b[0m \u001b[0mcell\u001b[0m\u001b[0;34m\u001b[0m\u001b[0;34m\u001b[0m\u001b[0m\n\u001b[1;32m    779\u001b[0m \u001b[0;34m\u001b[0m\u001b[0m\n",
            "\u001b[0;32m/usr/local/lib/python3.7/dist-packages/openpyxl/cell/cell.py\u001b[0m in \u001b[0;36m__init__\u001b[0;34m(self, worksheet, column, row, value, col_idx, style_array)\u001b[0m\n\u001b[1;32m    105\u001b[0m \u001b[0;34m\u001b[0m\u001b[0m\n\u001b[1;32m    106\u001b[0m     \u001b[0;32mdef\u001b[0m \u001b[0m__init__\u001b[0m\u001b[0;34m(\u001b[0m\u001b[0mself\u001b[0m\u001b[0;34m,\u001b[0m \u001b[0mworksheet\u001b[0m\u001b[0;34m,\u001b[0m \u001b[0mcolumn\u001b[0m\u001b[0;34m=\u001b[0m\u001b[0;32mNone\u001b[0m\u001b[0;34m,\u001b[0m \u001b[0mrow\u001b[0m\u001b[0;34m=\u001b[0m\u001b[0;32mNone\u001b[0m\u001b[0;34m,\u001b[0m \u001b[0mvalue\u001b[0m\u001b[0;34m=\u001b[0m\u001b[0;32mNone\u001b[0m\u001b[0;34m,\u001b[0m \u001b[0mcol_idx\u001b[0m\u001b[0;34m=\u001b[0m\u001b[0;32mNone\u001b[0m\u001b[0;34m,\u001b[0m \u001b[0mstyle_array\u001b[0m\u001b[0;34m=\u001b[0m\u001b[0;32mNone\u001b[0m\u001b[0;34m)\u001b[0m\u001b[0;34m:\u001b[0m\u001b[0;34m\u001b[0m\u001b[0;34m\u001b[0m\u001b[0m\n\u001b[0;32m--> 107\u001b[0;31m         \u001b[0msuper\u001b[0m\u001b[0;34m(\u001b[0m\u001b[0mCell\u001b[0m\u001b[0;34m,\u001b[0m \u001b[0mself\u001b[0m\u001b[0;34m)\u001b[0m\u001b[0;34m.\u001b[0m\u001b[0m__init__\u001b[0m\u001b[0;34m(\u001b[0m\u001b[0mworksheet\u001b[0m\u001b[0;34m,\u001b[0m \u001b[0mstyle_array\u001b[0m\u001b[0;34m)\u001b[0m\u001b[0;34m\u001b[0m\u001b[0;34m\u001b[0m\u001b[0m\n\u001b[0m\u001b[1;32m    108\u001b[0m         \u001b[0mself\u001b[0m\u001b[0;34m.\u001b[0m\u001b[0mrow\u001b[0m \u001b[0;34m=\u001b[0m \u001b[0mrow\u001b[0m\u001b[0;34m\u001b[0m\u001b[0;34m\u001b[0m\u001b[0m\n\u001b[1;32m    109\u001b[0m         \u001b[0;34m\"\"\"Row number of this cell (1-based)\"\"\"\u001b[0m\u001b[0;34m\u001b[0m\u001b[0;34m\u001b[0m\u001b[0m\n",
            "\u001b[0;31mKeyboardInterrupt\u001b[0m: "
          ]
        }
      ]
    },
    {
      "cell_type": "code",
      "metadata": {
        "colab": {
          "base_uri": "https://localhost:8080/"
        },
        "id": "coYxUO0Zqlh1",
        "outputId": "7f85806b-4842-47e1-dfd9-b3201a08c391"
      },
      "source": [
        ""
      ],
      "execution_count": null,
      "outputs": [
        {
          "output_type": "stream",
          "name": "stdout",
          "text": [
            "Mounted at /content/drive\n"
          ]
        }
      ]
    },
    {
      "cell_type": "code",
      "metadata": {
        "id": "OIQjWpxjJkNI"
      },
      "source": [
        "import pandas as pd\n",
        "import random \n",
        "\n",
        "#This function is to continue the work and don't calculate over and over again the same steps\n",
        "def traveled_road(df):\n",
        "\n",
        "  #This will contain a string with the step because csv saves the data in strings\n",
        "  s_calculated_steps = []\n",
        "\n",
        "  #This will contain the steps with a number type\n",
        "  n_calculated_steps = []\n",
        "\n",
        "  #Here we look into a our csv file that contain the steps we had calculated \n",
        "  f = open('/content/drive/My Drive/Colab Notebooks/n-queens problem pandas/paths.csv', \"r\")\n",
        "  for step in f:\n",
        "    #And then we add it to the corresponding list\n",
        "    s_calculated_steps.append(step)\n",
        "\n",
        "  f.close()\n",
        "\n",
        "  #Just converting the types\n",
        "  for i in s_calculated_steps:\n",
        "    num = int(i)\n",
        "    n_calculated_steps.append(num)\n",
        "  \n",
        "  #Finally we just filtrate all the steps\n",
        "  for step in n_calculated_steps:\n",
        "    df = filtrate(df, step)\n",
        "    \n",
        "  return df  \n",
        "\n",
        "def ifChosen(df, choice):\n",
        "\n",
        "  #Establishing the attributes of the data we used\n",
        "  df.loc[choice, 'OCCUPIED'] = True\n",
        "  df.loc[choice, 'AVAILABLE'] = False\n",
        "  used_column = df.loc[choice, 'COLUMN']\n",
        "  used_row = df.loc[choice, 'ROW']\n",
        "  used_dswne = df.loc[choice, 'DIAGONALSWNE']\n",
        "  used_dsenw = df.loc[choice, 'DIAGONALSENW']\n",
        "\n",
        "  #Getting the data has not repeated attributtes with an occupied square\n",
        "  df.loc[(df.COLUMN == used_column) | (df.ROW == used_row) | (df.DIAGONALSWNE == used_dswne) | (df.DIAGONALSENW == used_dsenw), 'AVAILABLE'] = False\n",
        "\n",
        "  return len(df[df.AVAILABLE == True])\n",
        "\n",
        "def filtrate(df, choice):\n",
        "\n",
        "  #Establishing the attributes of the data we used\n",
        "  df.loc[choice, 'OCCUPIED'] = True\n",
        "  df.loc[choice, 'AVAILABLE'] = False\n",
        "  used_column = df.loc[choice, 'COLUMN']\n",
        "  used_row = df.loc[choice, 'ROW']\n",
        "  used_dswne = df.loc[choice, 'DIAGONALSWNE']\n",
        "  used_dsenw = df.loc[choice, 'DIAGONALSENW']\n",
        "\n",
        "  #Getting the data has not repeated attributtes with an occupied square\n",
        "  df.loc[(df.COLUMN == used_column) | (df.ROW == used_row) | (df.DIAGONALSWNE == used_dswne) | (df.DIAGONALSENW == used_dsenw), 'AVAILABLE'] = False\n",
        "\n",
        "  return df\n",
        "\n",
        "def bestOption(df):\n",
        "\n",
        "  #Getting the indices of the squares that we can use\n",
        "  dfSample = df.index[df.AVAILABLE == True]\n",
        "  indices = dfSample.tolist()\n",
        "\n",
        "  #This list will contain how many squares will be available if the square is chosen\n",
        "  nextAvailableSquares = []\n",
        "  \n",
        "  for i in indices:\n",
        "\n",
        "    nextAvailableSquaresIfChosen = ifChosen(df.copy(deep=True), i)\n",
        "\n",
        "    nextAvailableSquares.append(nextAvailableSquaresIfChosen)\n",
        "\n",
        "  theBestOption = nextAvailableSquares.index(max(nextAvailableSquares))\n",
        "  \n",
        "  return theBestOption\n",
        "\n",
        "def run():\n",
        "\n",
        "  #Declaring the raw df we will use\n",
        "  df = pd.read_csv('/content/drive/My Drive/Colab Notebooks/n-queens problem pandas/Board - Data in the board.csv')\n",
        "\n",
        "  #First we should use the steps we had calculated\n",
        "  df = traveled_road(df)\n",
        "\n",
        "  #Next we will take the best square possible \n",
        "  best_choice = bestOption(df)\n",
        "\n",
        "  #Then we add that to the path we are building\n",
        "  f = open('/content/drive/My Drive/Colab Notebooks/n-queens problem pandas/paths.csv', \"a\")\n",
        "  f.write(f',{best_choice}')\n",
        "  f.close()\n",
        "\n",
        "  print(best_choice)\n",
        "  print(df[df.AVAILABLE == True])\n",
        "  df = filtrate(df, best_choice)\n",
        "  print(df[df.AVAILABLE == True])\n",
        "  \n",
        "if __name__ == '__main__':\n",
        "  run()"
      ],
      "execution_count": null,
      "outputs": []
    }
  ]
}